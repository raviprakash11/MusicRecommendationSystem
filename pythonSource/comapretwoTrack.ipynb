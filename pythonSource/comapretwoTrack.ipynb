{
 "cells": [
  {
   "cell_type": "code",
   "execution_count": 1,
   "metadata": {},
   "outputs": [
    {
     "data": {
      "text/html": [
       "<div>\n",
       "<style scoped>\n",
       "    .dataframe tbody tr th:only-of-type {\n",
       "        vertical-align: middle;\n",
       "    }\n",
       "\n",
       "    .dataframe tbody tr th {\n",
       "        vertical-align: top;\n",
       "    }\n",
       "\n",
       "    .dataframe thead th {\n",
       "        text-align: right;\n",
       "    }\n",
       "</style>\n",
       "<table border=\"1\" class=\"dataframe\">\n",
       "  <thead>\n",
       "    <tr style=\"text-align: right;\">\n",
       "      <th></th>\n",
       "      <th>artist_name</th>\n",
       "      <th>track_id</th>\n",
       "      <th>track_name</th>\n",
       "      <th>acousticness</th>\n",
       "      <th>danceability</th>\n",
       "      <th>duration_ms</th>\n",
       "      <th>energy</th>\n",
       "      <th>instrumentalness</th>\n",
       "      <th>key</th>\n",
       "      <th>liveness</th>\n",
       "      <th>loudness</th>\n",
       "      <th>mode</th>\n",
       "      <th>speechiness</th>\n",
       "      <th>tempo</th>\n",
       "      <th>time_signature</th>\n",
       "      <th>valence</th>\n",
       "      <th>popularity</th>\n",
       "    </tr>\n",
       "  </thead>\n",
       "  <tbody>\n",
       "    <tr>\n",
       "      <th>101609</th>\n",
       "      <td>Ozuna</td>\n",
       "      <td>7uH27oIt4a6cIFCA8ZPcyG</td>\n",
       "      <td>Baila Baila Baila</td>\n",
       "      <td>0.0361</td>\n",
       "      <td>0.816</td>\n",
       "      <td>158400</td>\n",
       "      <td>0.754</td>\n",
       "      <td>0.0</td>\n",
       "      <td>11</td>\n",
       "      <td>0.217</td>\n",
       "      <td>-2.75</td>\n",
       "      <td>0</td>\n",
       "      <td>0.111</td>\n",
       "      <td>99.966</td>\n",
       "      <td>4</td>\n",
       "      <td>0.533</td>\n",
       "      <td>95</td>\n",
       "    </tr>\n",
       "  </tbody>\n",
       "</table>\n",
       "</div>"
      ],
      "text/plain": [
       "       artist_name                track_id         track_name  acousticness  \\\n",
       "101609       Ozuna  7uH27oIt4a6cIFCA8ZPcyG  Baila Baila Baila        0.0361   \n",
       "\n",
       "        danceability  duration_ms  energy  instrumentalness  key  liveness  \\\n",
       "101609         0.816       158400   0.754               0.0   11     0.217   \n",
       "\n",
       "        loudness  mode  speechiness   tempo  time_signature  valence  \\\n",
       "101609     -2.75     0        0.111  99.966               4    0.533   \n",
       "\n",
       "        popularity  \n",
       "101609          95  "
      ]
     },
     "execution_count": 1,
     "metadata": {},
     "output_type": "execute_result"
    }
   ],
   "source": [
    "import numpy as np\n",
    "import matplotlib.pyplot as plt\n",
    "import pandas as pd\n",
    "%matplotlib inline\n",
    "dataset = pd.read_csv(r'C:\\Users\\Ravi\\Desktop\\SpotifyAudio.csv')\n",
    "dataset = dataset.sample(frac=0.1, random_state = 1)\n",
    "musicdata = dataset.pivot_table(index = 'artist_name',columns = 'track_name',values='popularity')\n",
    "dataset.sort_values('popularity',ascending=False).head(10)\n",
    "dataset.sort_values('popularity',ascending=False).iloc[:,-1]\n",
    "JonasBrothers_music_popularity=dataset.loc[dataset['track_name'] =='Bubalu' ]\n",
    "Ozuna_music_popularity=dataset.loc[dataset['track_name'] =='Baila Baila Baila' ]\n",
    "JonasBrothers_music_popularity\n",
    "Ozuna_music_popularity"
   ]
  },
  {
   "cell_type": "code",
   "execution_count": null,
   "metadata": {},
   "outputs": [],
   "source": []
  }
 ],
 "metadata": {
  "kernelspec": {
   "display_name": "Python 3",
   "language": "python",
   "name": "python3"
  },
  "language_info": {
   "codemirror_mode": {
    "name": "ipython",
    "version": 3
   },
   "file_extension": ".py",
   "mimetype": "text/x-python",
   "name": "python",
   "nbconvert_exporter": "python",
   "pygments_lexer": "ipython3",
   "version": "3.6.8"
  }
 },
 "nbformat": 4,
 "nbformat_minor": 2
}
