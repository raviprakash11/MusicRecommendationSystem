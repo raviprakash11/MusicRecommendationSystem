{
 "cells": [
  {
   "cell_type": "code",
   "execution_count": 1,
   "metadata": {},
   "outputs": [
    {
     "data": {
      "text/plain": [
       "99366     98\n",
       "101609    95\n",
       "123911    91\n",
       "99377     91\n",
       "123943    90\n",
       "123905    89\n",
       "99396     88\n",
       "124113    88\n",
       "124112    88\n",
       "123903    87\n",
       "123952    87\n",
       "123932    87\n",
       "101791    86\n",
       "124099    86\n",
       "124192    86\n",
       "124116    86\n",
       "120792    85\n",
       "124100    85\n",
       "99392     85\n",
       "101706    85\n",
       "124209    84\n",
       "124105    84\n",
       "101709    84\n",
       "123886    84\n",
       "124149    84\n",
       "123912    83\n",
       "123963    83\n",
       "124370    83\n",
       "95900     83\n",
       "101712    83\n",
       "          ..\n",
       "105864     0\n",
       "61138      0\n",
       "106937     0\n",
       "14679      0\n",
       "17350      0\n",
       "99444      0\n",
       "24614      0\n",
       "22808      0\n",
       "86515      0\n",
       "9705       0\n",
       "31882      0\n",
       "31106      0\n",
       "54360      0\n",
       "80076      0\n",
       "48129      0\n",
       "112249     0\n",
       "34401      0\n",
       "24912      0\n",
       "25275      0\n",
       "29778      0\n",
       "35376      0\n",
       "82845      0\n",
       "73927      0\n",
       "51239      0\n",
       "62858      0\n",
       "13663      0\n",
       "26724      0\n",
       "30718      0\n",
       "84674      0\n",
       "81454      0\n",
       "Name: popularity, Length: 13066, dtype: int64"
      ]
     },
     "execution_count": 1,
     "metadata": {},
     "output_type": "execute_result"
    }
   ],
   "source": [
    "import numpy as np\n",
    "import matplotlib.pyplot as plt\n",
    "import pandas as pd\n",
    "%matplotlib inline\n",
    "dataset = pd.read_csv(r'C:\\Users\\Ravi\\Desktop\\SpotifyAudio.csv')\n",
    "dataset = dataset.sample(frac=0.1, random_state = 1)\n",
    "musicdata = dataset.pivot_table(index = 'artist_name',columns = 'track_name',values='popularity')\n",
    "dataset.sort_values('popularity',ascending=False).head(10)\n",
    "dataset.sort_values('popularity',ascending=False).iloc[:,-1]"
   ]
  },
  {
   "cell_type": "code",
   "execution_count": null,
   "metadata": {},
   "outputs": [],
   "source": []
  }
 ],
 "metadata": {
  "kernelspec": {
   "display_name": "Python 3",
   "language": "python",
   "name": "python3"
  },
  "language_info": {
   "codemirror_mode": {
    "name": "ipython",
    "version": 3
   },
   "file_extension": ".py",
   "mimetype": "text/x-python",
   "name": "python",
   "nbconvert_exporter": "python",
   "pygments_lexer": "ipython3",
   "version": "3.6.8"
  }
 },
 "nbformat": 4,
 "nbformat_minor": 2
}
