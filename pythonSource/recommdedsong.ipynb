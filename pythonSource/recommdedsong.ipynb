{
 "cells": [
  {
   "cell_type": "code",
   "execution_count": 1,
   "metadata": {},
   "outputs": [
    {
     "name": "stdout",
     "output_type": "stream",
     "text": [
      "          artist_name                track_id  \\\n",
      "124112  Calvin Harris  7ef4DlsgrMEH11cDZd32M6   \n",
      "124113        Becky G  7dNwJbsT0sg1le5kVugGJb   \n",
      "99396          Khalid  09oZ9eXQ2fo6YDrPzJqAoP   \n",
      "\n",
      "                             track_name  acousticness  danceability  \\\n",
      "124112         One Kiss (with Dua Lipa)        0.0370         0.791   \n",
      "124113                           Bubalu        0.6160         0.800   \n",
      "99396   Outta My Head (with John Mayer)        0.0174         0.729   \n",
      "\n",
      "        duration_ms  energy  instrumentalness  key  liveness  loudness  mode  \\\n",
      "124112       214847   0.862          0.000022    9    0.0814    -3.240     0   \n",
      "124113       228493   0.355          0.000000    6    0.1180   -10.470     0   \n",
      "99396        177067   0.545          0.000274    0    0.3690    -7.818     1   \n",
      "\n",
      "        speechiness    tempo  time_signature  valence  popularity  \n",
      "124112       0.1100  123.994               4    0.592          88  \n",
      "124113       0.0895  145.929               4    0.253          88  \n",
      "99396        0.0316  103.012               4    0.514          88  \n"
     ]
    }
   ],
   "source": [
    "import numpy as np\n",
    "import matplotlib.pyplot as plt\n",
    "import pandas as pd\n",
    "%matplotlib inline\n",
    "dataset = pd.read_csv(r'C:\\Users\\Ravi\\Desktop\\SpotifyAudio.csv')\n",
    "dataset = dataset.sample(frac=0.1, random_state = 1)\n",
    "musicdata = dataset.pivot_table(index = 'artist_name',columns = 'track_name',values='popularity')\n",
    "dataset.sort_values('popularity',ascending=False).head(10)\n",
    "dataset.sort_values('popularity',ascending=False).iloc[:,-1]\n",
    "JonasBrothers_music_popularity=dataset.loc[dataset['track_name'] =='Bubalu' ]\n",
    "Ozuna_music_popularity=dataset.loc[dataset['track_name'] =='Baila Baila Baila' ]\n",
    "p=JonasBrothers_music_popularity['popularity']\n",
    "pp=int(p)\n",
    "sim_Sucker=dataset.loc[dataset['popularity'] ==pp]\n",
    "print(sim_Sucker)"
   ]
  },
  {
   "cell_type": "code",
   "execution_count": null,
   "metadata": {},
   "outputs": [],
   "source": []
  }
 ],
 "metadata": {
  "kernelspec": {
   "display_name": "Python 3",
   "language": "python",
   "name": "python3"
  },
  "language_info": {
   "codemirror_mode": {
    "name": "ipython",
    "version": 3
   },
   "file_extension": ".py",
   "mimetype": "text/x-python",
   "name": "python",
   "nbconvert_exporter": "python",
   "pygments_lexer": "ipython3",
   "version": "3.6.8"
  }
 },
 "nbformat": 4,
 "nbformat_minor": 2
}
